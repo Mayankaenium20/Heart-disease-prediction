{
 "cells": [
  {
   "cell_type": "code",
   "execution_count": 2,
   "metadata": {
    "_cell_guid": "b1076dfc-b9ad-4769-8c92-a6c4dae69d19",
    "_uuid": "8f2839f25d086af736a60e9eeb907d3b93b6e0e5",
    "execution": {
     "iopub.execute_input": "2021-01-25T19:49:53.567953Z",
     "iopub.status.busy": "2021-01-25T19:49:53.567284Z",
     "iopub.status.idle": "2021-01-25T19:49:53.580817Z",
     "shell.execute_reply": "2021-01-25T19:49:53.579815Z"
    },
    "papermill": {
     "duration": 0.035041,
     "end_time": "2021-01-25T19:49:53.581058",
     "exception": false,
     "start_time": "2021-01-25T19:49:53.546017",
     "status": "completed"
    },
    "tags": []
   },
   "outputs": [],
   "source": [
    "\n",
    "import numpy as np # linear algebra\n",
    "import pandas as pd # data processing, CSV file I/O (e.g. pd.read_csv)"
   ]
  },
  {
   "cell_type": "markdown",
   "metadata": {
    "papermill": {
     "duration": 0.014371,
     "end_time": "2021-01-25T19:49:53.612050",
     "exception": false,
     "start_time": "2021-01-25T19:49:53.597679",
     "status": "completed"
    },
    "tags": []
   },
   "source": [
    "# Reading and Visualization Data "
   ]
  },
  {
   "cell_type": "code",
   "execution_count": 3,
   "metadata": {
    "execution": {
     "iopub.execute_input": "2021-01-25T19:49:53.647489Z",
     "iopub.status.busy": "2021-01-25T19:49:53.646738Z",
     "iopub.status.idle": "2021-01-25T19:49:53.658379Z",
     "shell.execute_reply": "2021-01-25T19:49:53.658827Z"
    },
    "papermill": {
     "duration": 0.032316,
     "end_time": "2021-01-25T19:49:53.658974",
     "exception": false,
     "start_time": "2021-01-25T19:49:53.626658",
     "status": "completed"
    },
    "tags": []
   },
   "outputs": [],
   "source": [
    "df = pd.read_csv('clinical_records.csv')"
   ]
  },
  {
   "cell_type": "code",
   "execution_count": 4,
   "metadata": {
    "execution": {
     "iopub.execute_input": "2021-01-25T19:49:53.692291Z",
     "iopub.status.busy": "2021-01-25T19:49:53.691367Z",
     "iopub.status.idle": "2021-01-25T19:49:53.719318Z",
     "shell.execute_reply": "2021-01-25T19:49:53.719843Z"
    },
    "papermill": {
     "duration": 0.045995,
     "end_time": "2021-01-25T19:49:53.719973",
     "exception": false,
     "start_time": "2021-01-25T19:49:53.673978",
     "status": "completed"
    },
    "tags": []
   },
   "outputs": [
    {
     "data": {
      "text/html": [
       "<div>\n",
       "<style scoped>\n",
       "    .dataframe tbody tr th:only-of-type {\n",
       "        vertical-align: middle;\n",
       "    }\n",
       "\n",
       "    .dataframe tbody tr th {\n",
       "        vertical-align: top;\n",
       "    }\n",
       "\n",
       "    .dataframe thead th {\n",
       "        text-align: right;\n",
       "    }\n",
       "</style>\n",
       "<table border=\"1\" class=\"dataframe\">\n",
       "  <thead>\n",
       "    <tr style=\"text-align: right;\">\n",
       "      <th></th>\n",
       "      <th>age</th>\n",
       "      <th>anaemia</th>\n",
       "      <th>creatinine_phosphokinase</th>\n",
       "      <th>diabetes</th>\n",
       "      <th>ejection_fraction</th>\n",
       "      <th>high_blood_pressure</th>\n",
       "      <th>platelets</th>\n",
       "      <th>serum_creatinine</th>\n",
       "      <th>serum_sodium</th>\n",
       "      <th>sex</th>\n",
       "      <th>smoking</th>\n",
       "      <th>time</th>\n",
       "      <th>DEATH_EVENT</th>\n",
       "    </tr>\n",
       "  </thead>\n",
       "  <tbody>\n",
       "    <tr>\n",
       "      <th>0</th>\n",
       "      <td>75.0</td>\n",
       "      <td>0</td>\n",
       "      <td>582</td>\n",
       "      <td>0</td>\n",
       "      <td>20</td>\n",
       "      <td>1</td>\n",
       "      <td>265000.00</td>\n",
       "      <td>1.9</td>\n",
       "      <td>130</td>\n",
       "      <td>1</td>\n",
       "      <td>0</td>\n",
       "      <td>4</td>\n",
       "      <td>1</td>\n",
       "    </tr>\n",
       "    <tr>\n",
       "      <th>1</th>\n",
       "      <td>55.0</td>\n",
       "      <td>0</td>\n",
       "      <td>7861</td>\n",
       "      <td>0</td>\n",
       "      <td>38</td>\n",
       "      <td>0</td>\n",
       "      <td>263358.03</td>\n",
       "      <td>1.1</td>\n",
       "      <td>136</td>\n",
       "      <td>1</td>\n",
       "      <td>0</td>\n",
       "      <td>6</td>\n",
       "      <td>1</td>\n",
       "    </tr>\n",
       "    <tr>\n",
       "      <th>2</th>\n",
       "      <td>65.0</td>\n",
       "      <td>0</td>\n",
       "      <td>146</td>\n",
       "      <td>0</td>\n",
       "      <td>20</td>\n",
       "      <td>0</td>\n",
       "      <td>162000.00</td>\n",
       "      <td>1.3</td>\n",
       "      <td>129</td>\n",
       "      <td>1</td>\n",
       "      <td>1</td>\n",
       "      <td>7</td>\n",
       "      <td>1</td>\n",
       "    </tr>\n",
       "    <tr>\n",
       "      <th>3</th>\n",
       "      <td>50.0</td>\n",
       "      <td>1</td>\n",
       "      <td>111</td>\n",
       "      <td>0</td>\n",
       "      <td>20</td>\n",
       "      <td>0</td>\n",
       "      <td>210000.00</td>\n",
       "      <td>1.9</td>\n",
       "      <td>137</td>\n",
       "      <td>1</td>\n",
       "      <td>0</td>\n",
       "      <td>7</td>\n",
       "      <td>1</td>\n",
       "    </tr>\n",
       "    <tr>\n",
       "      <th>4</th>\n",
       "      <td>65.0</td>\n",
       "      <td>1</td>\n",
       "      <td>160</td>\n",
       "      <td>1</td>\n",
       "      <td>20</td>\n",
       "      <td>0</td>\n",
       "      <td>327000.00</td>\n",
       "      <td>2.7</td>\n",
       "      <td>116</td>\n",
       "      <td>0</td>\n",
       "      <td>0</td>\n",
       "      <td>8</td>\n",
       "      <td>1</td>\n",
       "    </tr>\n",
       "  </tbody>\n",
       "</table>\n",
       "</div>"
      ],
      "text/plain": [
       "    age  anaemia  creatinine_phosphokinase  diabetes  ejection_fraction  \\\n",
       "0  75.0        0                       582         0                 20   \n",
       "1  55.0        0                      7861         0                 38   \n",
       "2  65.0        0                       146         0                 20   \n",
       "3  50.0        1                       111         0                 20   \n",
       "4  65.0        1                       160         1                 20   \n",
       "\n",
       "   high_blood_pressure  platelets  serum_creatinine  serum_sodium  sex  \\\n",
       "0                    1  265000.00               1.9           130    1   \n",
       "1                    0  263358.03               1.1           136    1   \n",
       "2                    0  162000.00               1.3           129    1   \n",
       "3                    0  210000.00               1.9           137    1   \n",
       "4                    0  327000.00               2.7           116    0   \n",
       "\n",
       "   smoking  time  DEATH_EVENT  \n",
       "0        0     4            1  \n",
       "1        0     6            1  \n",
       "2        1     7            1  \n",
       "3        0     7            1  \n",
       "4        0     8            1  "
      ]
     },
     "execution_count": 4,
     "metadata": {},
     "output_type": "execute_result"
    }
   ],
   "source": [
    "df.head()"
   ]
  },
  {
   "cell_type": "code",
   "execution_count": 5,
   "metadata": {
    "execution": {
     "iopub.execute_input": "2021-01-25T19:49:53.755967Z",
     "iopub.status.busy": "2021-01-25T19:49:53.754950Z",
     "iopub.status.idle": "2021-01-25T19:49:53.761056Z",
     "shell.execute_reply": "2021-01-25T19:49:53.761653Z"
    },
    "papermill": {
     "duration": 0.026296,
     "end_time": "2021-01-25T19:49:53.761790",
     "exception": false,
     "start_time": "2021-01-25T19:49:53.735494",
     "status": "completed"
    },
    "tags": []
   },
   "outputs": [
    {
     "data": {
      "text/plain": [
       "(299, 13)"
      ]
     },
     "execution_count": 5,
     "metadata": {},
     "output_type": "execute_result"
    }
   ],
   "source": [
    "df.shape"
   ]
  },
  {
   "cell_type": "code",
   "execution_count": 6,
   "metadata": {
    "execution": {
     "iopub.execute_input": "2021-01-25T19:49:53.797843Z",
     "iopub.status.busy": "2021-01-25T19:49:53.796830Z",
     "iopub.status.idle": "2021-01-25T19:49:53.805055Z",
     "shell.execute_reply": "2021-01-25T19:49:53.805582Z"
    },
    "papermill": {
     "duration": 0.027817,
     "end_time": "2021-01-25T19:49:53.805725",
     "exception": false,
     "start_time": "2021-01-25T19:49:53.777908",
     "status": "completed"
    },
    "tags": []
   },
   "outputs": [
    {
     "data": {
      "text/plain": [
       "age                         0\n",
       "anaemia                     0\n",
       "creatinine_phosphokinase    0\n",
       "diabetes                    0\n",
       "ejection_fraction           0\n",
       "high_blood_pressure         0\n",
       "platelets                   0\n",
       "serum_creatinine            0\n",
       "serum_sodium                0\n",
       "sex                         0\n",
       "smoking                     0\n",
       "time                        0\n",
       "DEATH_EVENT                 0\n",
       "dtype: int64"
      ]
     },
     "execution_count": 6,
     "metadata": {},
     "output_type": "execute_result"
    }
   ],
   "source": [
    "df.isnull().sum()"
   ]
  },
  {
   "cell_type": "code",
   "execution_count": 7,
   "metadata": {
    "execution": {
     "iopub.execute_input": "2021-01-25T19:49:53.845360Z",
     "iopub.status.busy": "2021-01-25T19:49:53.844361Z",
     "iopub.status.idle": "2021-01-25T19:49:53.848378Z",
     "shell.execute_reply": "2021-01-25T19:49:53.847881Z"
    },
    "papermill": {
     "duration": 0.026807,
     "end_time": "2021-01-25T19:49:53.848491",
     "exception": false,
     "start_time": "2021-01-25T19:49:53.821684",
     "status": "completed"
    },
    "tags": []
   },
   "outputs": [
    {
     "data": {
      "text/plain": [
       "age                         float64\n",
       "anaemia                       int64\n",
       "creatinine_phosphokinase      int64\n",
       "diabetes                      int64\n",
       "ejection_fraction             int64\n",
       "high_blood_pressure           int64\n",
       "platelets                   float64\n",
       "serum_creatinine            float64\n",
       "serum_sodium                  int64\n",
       "sex                           int64\n",
       "smoking                       int64\n",
       "time                          int64\n",
       "DEATH_EVENT                   int64\n",
       "dtype: object"
      ]
     },
     "execution_count": 7,
     "metadata": {},
     "output_type": "execute_result"
    }
   ],
   "source": [
    "df.dtypes"
   ]
  },
  {
   "cell_type": "code",
   "execution_count": 8,
   "metadata": {
    "execution": {
     "iopub.execute_input": "2021-01-25T19:49:53.887126Z",
     "iopub.status.busy": "2021-01-25T19:49:53.886469Z",
     "iopub.status.idle": "2021-01-25T19:49:55.428159Z",
     "shell.execute_reply": "2021-01-25T19:49:55.428690Z"
    },
    "papermill": {
     "duration": 1.564118,
     "end_time": "2021-01-25T19:49:55.428838",
     "exception": false,
     "start_time": "2021-01-25T19:49:53.864720",
     "status": "completed"
    },
    "tags": []
   },
   "outputs": [
    {
     "data": {
      "image/png": "[encoded data removed]",
      "text/plain": [
       "<Figure size 864x720 with 2 Axes>"
      ]
     },
     "metadata": {
      "needs_background": "light"
     },
     "output_type": "display_data"
    }
   ],
   "source": [
    "import seaborn as sns \n",
    "import matplotlib.pyplot as plt \n",
    "plt.figure(figsize=(12,10))\n",
    "ax = sns.heatmap(df.corr())"
   ]
  },
  {
   "cell_type": "code",
   "execution_count": 9,
   "metadata": {
    "execution": {
     "iopub.execute_input": "2021-01-25T19:49:55.472037Z",
     "iopub.status.busy": "2021-01-25T19:49:55.471386Z",
     "iopub.status.idle": "2021-01-25T19:49:57.578186Z",
     "shell.execute_reply": "2021-01-25T19:49:57.579523Z"
    },
    "papermill": {
     "duration": 2.131744,
     "end_time": "2021-01-25T19:49:57.579699",
     "exception": false,
     "start_time": "2021-01-25T19:49:55.447955",
     "status": "completed"
    },
    "tags": []
   },
   "outputs": [
    {
     "name": "stderr",
     "output_type": "stream",
     "text": [
      "C:\\Users\\Admin\\AppData\\Local\\Temp/ipykernel_3084/2555487093.py:3: UserWarning: To output multiple subplots, the figure containing the passed axes is being cleared\n",
      "  df.hist(ax=ax)\n"
     ]
    },
    {
     "data": {
      "image/png": "[encoded data removed]",
      "text/plain": [
       "<Figure size 1440x1080 with 16 Axes>"
      ]
     },
     "metadata": {
      "needs_background": "light"
     },
     "output_type": "display_data"
    }
   ],
   "source": [
    "fig = plt.figure(figsize = (20,15))\n",
    "ax = fig.gca()\n",
    "df.hist(ax=ax)\n",
    "plt.show()"
   ]
  },
  {
   "cell_type": "markdown",
   "metadata": {
    "papermill": {
     "duration": 0.020124,
     "end_time": "2021-01-25T19:49:57.619655",
     "exception": false,
     "start_time": "2021-01-25T19:49:57.599531",
     "status": "completed"
    },
    "tags": []
   },
   "source": [
    "# Preprocessing  the data"
   ]
  },
  {
   "cell_type": "code",
   "execution_count": 10,
   "metadata": {
    "execution": {
     "iopub.execute_input": "2021-01-25T19:49:57.666490Z",
     "iopub.status.busy": "2021-01-25T19:49:57.665284Z",
     "iopub.status.idle": "2021-01-25T19:49:57.669329Z",
     "shell.execute_reply": "2021-01-25T19:49:57.668677Z"
    },
    "papermill": {
     "duration": 0.03031,
     "end_time": "2021-01-25T19:49:57.669462",
     "exception": false,
     "start_time": "2021-01-25T19:49:57.639152",
     "status": "completed"
    },
    "tags": []
   },
   "outputs": [],
   "source": [
    "y = df['DEATH_EVENT']\n",
    "X =  df.drop(['DEATH_EVENT'],axis=1)"
   ]
  },
  {
   "cell_type": "code",
   "execution_count": 14,
   "metadata": {
    "execution": {
     "iopub.execute_input": "2021-01-25T19:49:57.719222Z",
     "iopub.status.busy": "2021-01-25T19:49:57.718500Z",
     "iopub.status.idle": "2021-01-25T19:49:57.755790Z",
     "shell.execute_reply": "2021-01-25T19:49:57.755125Z"
    },
    "papermill": {
     "duration": 0.064537,
     "end_time": "2021-01-25T19:49:57.755924",
     "exception": false,
     "start_time": "2021-01-25T19:49:57.691387",
     "status": "completed"
    },
    "tags": []
   },
   "outputs": [],
   "source": [
    "X['serum_sodium'] = X['serum_sodium'] > 130\n",
    "X['creatinine_phosphokinase'] = X['creatinine_phosphokinase'] < 4000\n",
    "X['serum_creatinine'] = X['serum_creatinine'] < 4\n",
    "X['ejection_fraction'] = X['ejection_fraction'] < 60\n",
    "X['platelets'] = X['platelets'] < 500000\n",
    "X['age'] = X['age'] < 80"
   ]
  },
  {
   "cell_type": "code",
   "execution_count": 15,
   "metadata": {
    "execution": {
     "iopub.execute_input": "2021-01-25T19:49:57.808050Z",
     "iopub.status.busy": "2021-01-25T19:49:57.802049Z",
     "iopub.status.idle": "2021-01-25T19:49:59.662210Z",
     "shell.execute_reply": "2021-01-25T19:49:59.661563Z"
    },
    "papermill": {
     "duration": 1.886131,
     "end_time": "2021-01-25T19:49:59.662349",
     "exception": false,
     "start_time": "2021-01-25T19:49:57.776218",
     "status": "completed"
    },
    "tags": []
   },
   "outputs": [
    {
     "name": "stderr",
     "output_type": "stream",
     "text": [
      "C:\\Users\\Admin\\AppData\\Local\\Temp/ipykernel_3084/250178608.py:3: UserWarning: To output multiple subplots, the figure containing the passed axes is being cleared\n",
      "  X.hist(ax=ax)\n"
     ]
    },
    {
     "data": {
      "image/png": "[encoded data removed]",
      "text/plain": [
       "<Figure size 1440x1080 with 6 Axes>"
      ]
     },
     "metadata": {
      "needs_background": "light"
     },
     "output_type": "display_data"
    }
   ],
   "source": [
    "fig = plt.figure(figsize = (20,15))\n",
    "ax = fig.gca()\n",
    "X.hist(ax=ax)\n",
    "plt.show()"
   ]
  },
  {
   "cell_type": "code",
   "execution_count": 16,
   "metadata": {
    "execution": {
     "iopub.execute_input": "2021-01-25T19:49:59.712501Z",
     "iopub.status.busy": "2021-01-25T19:49:59.711763Z",
     "iopub.status.idle": "2021-01-25T19:49:59.718225Z",
     "shell.execute_reply": "2021-01-25T19:49:59.718713Z"
    },
    "papermill": {
     "duration": 0.033927,
     "end_time": "2021-01-25T19:49:59.718871",
     "exception": false,
     "start_time": "2021-01-25T19:49:59.684944",
     "status": "completed"
    },
    "tags": []
   },
   "outputs": [],
   "source": [
    "X.dropna(inplace=True,axis=1)"
   ]
  },
  {
   "cell_type": "markdown",
   "metadata": {
    "papermill": {
     "duration": 0.022999,
     "end_time": "2021-01-25T19:49:59.764792",
     "exception": false,
     "start_time": "2021-01-25T19:49:59.741793",
     "status": "completed"
    },
    "tags": []
   },
   "source": [
    "### Split the data "
   ]
  },
  {
   "cell_type": "code",
   "execution_count": 17,
   "metadata": {
    "execution": {
     "iopub.execute_input": "2021-01-25T19:49:59.814040Z",
     "iopub.status.busy": "2021-01-25T19:49:59.813231Z",
     "iopub.status.idle": "2021-01-25T19:49:59.963750Z",
     "shell.execute_reply": "2021-01-25T19:49:59.962892Z"
    },
    "papermill": {
     "duration": 0.176201,
     "end_time": "2021-01-25T19:49:59.963879",
     "exception": false,
     "start_time": "2021-01-25T19:49:59.787678",
     "status": "completed"
    },
    "tags": []
   },
   "outputs": [],
   "source": [
    "from sklearn.model_selection import train_test_split\n",
    "X_train, X_test, y_train, y_test = train_test_split(\n",
    "     X, y, test_size=0.4)"
   ]
  },
  {
   "cell_type": "markdown",
   "metadata": {
    "papermill": {
     "duration": 0.02246,
     "end_time": "2021-01-25T19:50:00.008369",
     "exception": false,
     "start_time": "2021-01-25T19:49:59.985909",
     "status": "completed"
    },
    "tags": []
   },
   "source": [
    "# Building model using XGBosst "
   ]
  },
  {
   "cell_type": "code",
   "execution_count": 18,
   "metadata": {
    "execution": {
     "iopub.execute_input": "2021-01-25T19:50:00.061118Z",
     "iopub.status.busy": "2021-01-25T19:50:00.060332Z",
     "iopub.status.idle": "2021-01-25T19:50:00.944892Z",
     "shell.execute_reply": "2021-01-25T19:50:00.945764Z"
    },
    "papermill": {
     "duration": 0.913822,
     "end_time": "2021-01-25T19:50:00.945977",
     "exception": false,
     "start_time": "2021-01-25T19:50:00.032155",
     "status": "completed"
    },
    "tags": []
   },
   "outputs": [
    {
     "name": "stdout",
     "output_type": "stream",
     "text": [
      "Collecting xgboost\n",
      "  Downloading xgboost-2.0.0-py3-none-win_amd64.whl (99.7 MB)\n",
      "Requirement already satisfied: scipy in c:\\programdata\\anaconda3\\lib\\site-packages (from xgboost) (1.7.1)\n",
      "Requirement already satisfied: numpy in c:\\programdata\\anaconda3\\lib\\site-packages (from xgboost) (1.20.3)\n",
      "Installing collected packages: xgboost\n",
      "Successfully installed xgboost-2.0.0\n"
     ]
    },
    {
     "data": {
      "text/plain": [
       "XGBClassifier(base_score=None, booster=None, callbacks=None,\n",
       "              colsample_bylevel=None, colsample_bynode=None,\n",
       "              colsample_bytree=None, device=None, early_stopping_rounds=None,\n",
       "              enable_categorical=False, eval_metric=None, feature_types=None,\n",
       "              gamma=None, grow_policy=None, importance_type=None,\n",
       "              interaction_constraints=None, learning_rate=None, max_bin=None,\n",
       "              max_cat_threshold=None, max_cat_to_onehot=None,\n",
       "              max_delta_step=None, max_depth=None, max_leaves=None,\n",
       "              min_child_weight=None, missing=nan, monotone_constraints=None,\n",
       "              multi_strategy=None, n_estimators=10, n_jobs=None,\n",
       "              num_parallel_tree=None, random_state=None, ...)"
      ]
     },
     "execution_count": 18,
     "metadata": {},
     "output_type": "execute_result"
    }
   ],
   "source": [
    "#Using xgboost\n",
    "!pip install xgboost\n",
    "import xgboost as xgb\n",
    "from sklearn.metrics import accuracy_score,confusion_matrix\n",
    "\n",
    "xgb_model = xgb.XGBClassifier(objective=\"binary:logistic\", n_estimators=10,) #random_state=10)\n",
    "xgb_model.fit(X_train, y_train)"
   ]
  },
  {
   "cell_type": "code",
   "execution_count": 19,
   "metadata": {
    "execution": {
     "iopub.execute_input": "2021-01-25T19:50:01.085523Z",
     "iopub.status.busy": "2021-01-25T19:50:01.083921Z",
     "iopub.status.idle": "2021-01-25T19:50:01.107497Z",
     "shell.execute_reply": "2021-01-25T19:50:01.108165Z"
    },
    "papermill": {
     "duration": 0.093489,
     "end_time": "2021-01-25T19:50:01.108388",
     "exception": false,
     "start_time": "2021-01-25T19:50:01.014899",
     "status": "completed"
    },
    "tags": []
   },
   "outputs": [
    {
     "name": "stdout",
     "output_type": "stream",
     "text": [
      "[[74  4]\n",
      " [14 28]]\n"
     ]
    }
   ],
   "source": [
    "y_pred = xgb_model.predict(X_test)\n",
    "print(confusion_matrix(y_test, y_pred))"
   ]
  },
  {
   "cell_type": "code",
   "execution_count": 20,
   "metadata": {
    "execution": {
     "iopub.execute_input": "2021-01-25T19:50:01.232948Z",
     "iopub.status.busy": "2021-01-25T19:50:01.215679Z",
     "iopub.status.idle": "2021-01-25T19:50:01.238631Z",
     "shell.execute_reply": "2021-01-25T19:50:01.216718Z"
    },
    "papermill": {
     "duration": 0.080142,
     "end_time": "2021-01-25T19:50:01.238887",
     "exception": false,
     "start_time": "2021-01-25T19:50:01.158745",
     "status": "completed"
    },
    "tags": []
   },
   "outputs": [
    {
     "data": {
      "text/plain": [
       "0.85"
      ]
     },
     "execution_count": 20,
     "metadata": {},
     "output_type": "execute_result"
    }
   ],
   "source": [
    "accuracy_score(y_test,y_pred)"
   ]
  }
 ],
 "metadata": {
  "kernelspec": {
   "display_name": "Python 3",
   "language": "python",
   "name": "python3"
  },
  "language_info": {
   "codemirror_mode": {
    "name": "ipython",
    "version": 3
   },
   "file_extension": ".py",
   "mimetype": "text/x-python",
   "name": "python",
   "nbconvert_exporter": "python",
   "pygments_lexer": "ipython3",
   "version": "3.9.7"
  },
  "papermill": {
   "duration": 24.766576,
   "end_time": "2021-01-25T19:50:13.488687",
   "environment_variables": {},
   "exception": null,
   "input_path": "__notebook__.ipynb",
   "output_path": "__notebook__.ipynb",
   "parameters": {},
   "start_time": "2021-01-25T19:49:48.722111",
   "version": "2.1.0"
  }
 },
 "nbformat": 4,
 "nbformat_minor": 4
}
